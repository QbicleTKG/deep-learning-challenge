{
 "cells": [
  {
   "cell_type": "markdown",
   "metadata": {
    "id": "MUXex9ctTuDB"
   },
   "source": [
    "## Setup"
   ]
  },
  {
   "cell_type": "code",
   "execution_count": 90,
   "metadata": {
    "execution": {
     "iopub.execute_input": "2023-12-07T03:19:58.047090Z",
     "iopub.status.busy": "2023-12-07T03:19:58.046855Z",
     "iopub.status.idle": "2023-12-07T03:20:00.418703Z",
     "shell.execute_reply": "2023-12-07T03:20:00.418001Z"
    },
    "id": "IqR2PQG4ZaZ0"
   },
   "outputs": [],
   "source": [
    "# Import our dependencies\n",
    "from sklearn.model_selection import train_test_split\n",
    "from sklearn.preprocessing import StandardScaler\n",
    "import pandas as pd\n",
    "import tensorflow as tf\n",
    "import numpy as np\n",
    "from tensorflow import keras\n",
    "import keras_tuner as kt"
   ]
  },
  {
   "cell_type": "markdown",
   "metadata": {
    "id": "HljH_ENLEdHa"
   },
   "source": [
    "Load the data."
   ]
  },
  {
   "cell_type": "code",
   "execution_count": 91,
   "metadata": {
    "execution": {
     "iopub.execute_input": "2023-12-07T03:20:03.136168Z",
     "iopub.status.busy": "2023-12-07T03:20:03.135094Z",
     "iopub.status.idle": "2023-12-07T03:20:03.542925Z",
     "shell.execute_reply": "2023-12-07T03:20:03.542192Z"
    },
    "id": "OHlHs9Wj_PUM"
   },
   "outputs": [
    {
     "data": {
      "text/html": [
       "<div>\n",
       "<style scoped>\n",
       "    .dataframe tbody tr th:only-of-type {\n",
       "        vertical-align: middle;\n",
       "    }\n",
       "\n",
       "    .dataframe tbody tr th {\n",
       "        vertical-align: top;\n",
       "    }\n",
       "\n",
       "    .dataframe thead th {\n",
       "        text-align: right;\n",
       "    }\n",
       "</style>\n",
       "<table border=\"1\" class=\"dataframe\">\n",
       "  <thead>\n",
       "    <tr style=\"text-align: right;\">\n",
       "      <th></th>\n",
       "      <th>EIN</th>\n",
       "      <th>NAME</th>\n",
       "      <th>APPLICATION_TYPE</th>\n",
       "      <th>AFFILIATION</th>\n",
       "      <th>CLASSIFICATION</th>\n",
       "      <th>USE_CASE</th>\n",
       "      <th>ORGANIZATION</th>\n",
       "      <th>STATUS</th>\n",
       "      <th>INCOME_AMT</th>\n",
       "      <th>SPECIAL_CONSIDERATIONS</th>\n",
       "      <th>ASK_AMT</th>\n",
       "      <th>IS_SUCCESSFUL</th>\n",
       "    </tr>\n",
       "  </thead>\n",
       "  <tbody>\n",
       "    <tr>\n",
       "      <th>0</th>\n",
       "      <td>10520599</td>\n",
       "      <td>BLUE KNIGHTS MOTORCYCLE CLUB</td>\n",
       "      <td>T10</td>\n",
       "      <td>Independent</td>\n",
       "      <td>C1000</td>\n",
       "      <td>ProductDev</td>\n",
       "      <td>Association</td>\n",
       "      <td>1</td>\n",
       "      <td>0</td>\n",
       "      <td>N</td>\n",
       "      <td>5000</td>\n",
       "      <td>1</td>\n",
       "    </tr>\n",
       "    <tr>\n",
       "      <th>1</th>\n",
       "      <td>10531628</td>\n",
       "      <td>AMERICAN CHESAPEAKE CLUB CHARITABLE TR</td>\n",
       "      <td>T3</td>\n",
       "      <td>Independent</td>\n",
       "      <td>C2000</td>\n",
       "      <td>Preservation</td>\n",
       "      <td>Co-operative</td>\n",
       "      <td>1</td>\n",
       "      <td>1-9999</td>\n",
       "      <td>N</td>\n",
       "      <td>108590</td>\n",
       "      <td>1</td>\n",
       "    </tr>\n",
       "    <tr>\n",
       "      <th>2</th>\n",
       "      <td>10547893</td>\n",
       "      <td>ST CLOUD PROFESSIONAL FIREFIGHTERS</td>\n",
       "      <td>T5</td>\n",
       "      <td>CompanySponsored</td>\n",
       "      <td>C3000</td>\n",
       "      <td>ProductDev</td>\n",
       "      <td>Association</td>\n",
       "      <td>1</td>\n",
       "      <td>0</td>\n",
       "      <td>N</td>\n",
       "      <td>5000</td>\n",
       "      <td>0</td>\n",
       "    </tr>\n",
       "    <tr>\n",
       "      <th>3</th>\n",
       "      <td>10553066</td>\n",
       "      <td>SOUTHSIDE ATHLETIC ASSOCIATION</td>\n",
       "      <td>T3</td>\n",
       "      <td>CompanySponsored</td>\n",
       "      <td>C2000</td>\n",
       "      <td>Preservation</td>\n",
       "      <td>Trust</td>\n",
       "      <td>1</td>\n",
       "      <td>10000-24999</td>\n",
       "      <td>N</td>\n",
       "      <td>6692</td>\n",
       "      <td>1</td>\n",
       "    </tr>\n",
       "    <tr>\n",
       "      <th>4</th>\n",
       "      <td>10556103</td>\n",
       "      <td>GENETIC RESEARCH INSTITUTE OF THE DESERT</td>\n",
       "      <td>T3</td>\n",
       "      <td>Independent</td>\n",
       "      <td>C1000</td>\n",
       "      <td>Heathcare</td>\n",
       "      <td>Trust</td>\n",
       "      <td>1</td>\n",
       "      <td>100000-499999</td>\n",
       "      <td>N</td>\n",
       "      <td>142590</td>\n",
       "      <td>1</td>\n",
       "    </tr>\n",
       "  </tbody>\n",
       "</table>\n",
       "</div>"
      ],
      "text/plain": [
       "        EIN                                      NAME APPLICATION_TYPE  \\\n",
       "0  10520599              BLUE KNIGHTS MOTORCYCLE CLUB              T10   \n",
       "1  10531628    AMERICAN CHESAPEAKE CLUB CHARITABLE TR               T3   \n",
       "2  10547893        ST CLOUD PROFESSIONAL FIREFIGHTERS               T5   \n",
       "3  10553066            SOUTHSIDE ATHLETIC ASSOCIATION               T3   \n",
       "4  10556103  GENETIC RESEARCH INSTITUTE OF THE DESERT               T3   \n",
       "\n",
       "        AFFILIATION CLASSIFICATION      USE_CASE  ORGANIZATION  STATUS  \\\n",
       "0       Independent          C1000    ProductDev   Association       1   \n",
       "1       Independent          C2000  Preservation  Co-operative       1   \n",
       "2  CompanySponsored          C3000    ProductDev   Association       1   \n",
       "3  CompanySponsored          C2000  Preservation         Trust       1   \n",
       "4       Independent          C1000     Heathcare         Trust       1   \n",
       "\n",
       "      INCOME_AMT SPECIAL_CONSIDERATIONS  ASK_AMT  IS_SUCCESSFUL  \n",
       "0              0                      N     5000              1  \n",
       "1         1-9999                      N   108590              1  \n",
       "2              0                      N     5000              0  \n",
       "3    10000-24999                      N     6692              1  \n",
       "4  100000-499999                      N   142590              1  "
      ]
     },
     "execution_count": 91,
     "metadata": {},
     "output_type": "execute_result"
    }
   ],
   "source": [
    "#  Import and read the charity_data.csv.\n",
    "import pandas as pd \n",
    "application_df = pd.read_csv(\"https://static.bc-edx.com/data/dl-1-2/m21/lms/starter/charity_data.csv\")\n",
    "application_df.head()"
   ]
  },
  {
   "cell_type": "code",
   "execution_count": 92,
   "metadata": {
    "execution": {
     "iopub.execute_input": "2023-12-07T03:20:03.547320Z",
     "iopub.status.busy": "2023-12-07T03:20:03.546629Z",
     "iopub.status.idle": "2023-12-07T03:20:03.646142Z",
     "shell.execute_reply": "2023-12-07T03:20:03.645354Z"
    },
    "id": "bLVhXs3xrUD0"
   },
   "outputs": [],
   "source": [
    "# Drop the non-beneficial ID columns, 'EIN'.\n",
    "application_df = application_df.drop([\"EIN\"], axis=1)"
   ]
  },
  {
   "cell_type": "code",
   "execution_count": 93,
   "metadata": {},
   "outputs": [
    {
     "data": {
      "text/plain": [
       "NAME                      19568\n",
       "APPLICATION_TYPE             17\n",
       "AFFILIATION                   6\n",
       "CLASSIFICATION               71\n",
       "USE_CASE                      5\n",
       "ORGANIZATION                  4\n",
       "STATUS                        2\n",
       "INCOME_AMT                    9\n",
       "SPECIAL_CONSIDERATIONS        2\n",
       "ASK_AMT                    8747\n",
       "IS_SUCCESSFUL                 2\n",
       "dtype: int64"
      ]
     },
     "execution_count": 93,
     "metadata": {},
     "output_type": "execute_result"
    }
   ],
   "source": [
    "# Determine the number of unique values in each column.\n",
    "application_df.nunique()"
   ]
  },
  {
   "cell_type": "code",
   "execution_count": 94,
   "metadata": {},
   "outputs": [
    {
     "data": {
      "text/plain": [
       "APPLICATION_TYPE\n",
       "T3     27037\n",
       "T4      1542\n",
       "T6      1216\n",
       "T5      1173\n",
       "T19     1065\n",
       "T8       737\n",
       "T7       725\n",
       "T10      528\n",
       "T9       156\n",
       "T13       66\n",
       "T12       27\n",
       "T2        16\n",
       "T25        3\n",
       "T14        3\n",
       "T29        2\n",
       "T15        2\n",
       "T17        1\n",
       "Name: count, dtype: int64"
      ]
     },
     "execution_count": 94,
     "metadata": {},
     "output_type": "execute_result"
    }
   ],
   "source": [
    "# Look at APPLICATION_TYPE value counts for binning\n",
    "application_df[\"APPLICATION_TYPE\"].value_counts()"
   ]
  },
  {
   "cell_type": "code",
   "execution_count": 95,
   "metadata": {},
   "outputs": [
    {
     "data": {
      "text/plain": [
       "APPLICATION_TYPE\n",
       "T3       27037\n",
       "T4        1542\n",
       "T6        1216\n",
       "T5        1173\n",
       "T19       1065\n",
       "T8         737\n",
       "T7         725\n",
       "T10        528\n",
       "Other      276\n",
       "Name: count, dtype: int64"
      ]
     },
     "execution_count": 95,
     "metadata": {},
     "output_type": "execute_result"
    }
   ],
   "source": [
    "# Choose a cutoff value and create a list of application types to be replaced\n",
    "# use the variable name `application_types_to_replace`\n",
    "application_types_to_replace = [\"T9\", \"T13\", \"T12\", \"T2\", \"T25\", \"T14\", \"T29\", \"T15\", \"T17\"]\n",
    "\n",
    "# Replace in dataframe\n",
    "for app in application_types_to_replace:\n",
    "    application_df['APPLICATION_TYPE'] = application_df['APPLICATION_TYPE'].replace(app,\"Other\")\n",
    "\n",
    "# Check to make sure binning was successful\n",
    "application_df['APPLICATION_TYPE'].value_counts()"
   ]
  },
  {
   "cell_type": "code",
   "execution_count": 96,
   "metadata": {},
   "outputs": [
    {
     "data": {
      "text/plain": [
       "CLASSIFICATION\n",
       "C1000    17326\n",
       "C2000     6074\n",
       "C1200     4837\n",
       "C3000     1918\n",
       "C2100     1883\n",
       "         ...  \n",
       "C4120        1\n",
       "C8210        1\n",
       "C2561        1\n",
       "C4500        1\n",
       "C2150        1\n",
       "Name: count, Length: 71, dtype: int64"
      ]
     },
     "execution_count": 96,
     "metadata": {},
     "output_type": "execute_result"
    }
   ],
   "source": [
    "# Look at CLASSIFICATION value counts for binning\n",
    "application_df[\"CLASSIFICATION\"].value_counts()"
   ]
  },
  {
   "cell_type": "code",
   "execution_count": 97,
   "metadata": {},
   "outputs": [
    {
     "data": {
      "text/plain": [
       "CLASSIFICATION\n",
       "C1000    17326\n",
       "C2000     6074\n",
       "C1200     4837\n",
       "C3000     1918\n",
       "C2100     1883\n",
       "C7000      777\n",
       "C1700      287\n",
       "C4000      194\n",
       "C5000      116\n",
       "C1270      114\n",
       "C2700      104\n",
       "C2800       95\n",
       "C7100       75\n",
       "C1300       58\n",
       "C1280       50\n",
       "C1230       36\n",
       "C1400       34\n",
       "C7200       32\n",
       "C2300       32\n",
       "C1240       30\n",
       "C8000       20\n",
       "C7120       18\n",
       "C1500       16\n",
       "C1800       15\n",
       "C6000       15\n",
       "C1250       14\n",
       "C8200       11\n",
       "C1238       10\n",
       "C1278       10\n",
       "C1235        9\n",
       "C1237        9\n",
       "C7210        7\n",
       "C2400        6\n",
       "C1720        6\n",
       "C4100        6\n",
       "C1257        5\n",
       "C1600        5\n",
       "C1260        3\n",
       "C2710        3\n",
       "C0           3\n",
       "C3200        2\n",
       "C1234        2\n",
       "C1246        2\n",
       "C1267        2\n",
       "C1256        2\n",
       "Name: count, dtype: int64"
      ]
     },
     "execution_count": 97,
     "metadata": {},
     "output_type": "execute_result"
    }
   ],
   "source": [
    "# You may find it helpful to look at CLASSIFICATION value counts >1\n",
    "classification_counts = application_df[\"CLASSIFICATION\"].value_counts()\n",
    "test = classification_counts[classification_counts > 1]\n",
    "test"
   ]
  },
  {
   "cell_type": "code",
   "execution_count": 98,
   "metadata": {},
   "outputs": [],
   "source": [
    "#create a filter for binns to replace\n",
    "filter = classification_counts[classification_counts < 1000].index.tolist()"
   ]
  },
  {
   "cell_type": "code",
   "execution_count": 99,
   "metadata": {},
   "outputs": [
    {
     "data": {
      "text/plain": [
       "CLASSIFICATION\n",
       "C1000    17326\n",
       "C2000     6074\n",
       "C1200     4837\n",
       "Other     2261\n",
       "C3000     1918\n",
       "C2100     1883\n",
       "Name: count, dtype: int64"
      ]
     },
     "execution_count": 99,
     "metadata": {},
     "output_type": "execute_result"
    }
   ],
   "source": [
    "# Choose a cutoff value and create a list of classifications to be replaced\n",
    "# use the variable name `classifications_to_replace`\n",
    "classifications_to_replace = filter\n",
    "\n",
    "# Replace in dataframe\n",
    "for cls in classifications_to_replace:\n",
    "    application_df['CLASSIFICATION'] = application_df['CLASSIFICATION'].replace(cls,\"Other\")\n",
    "    \n",
    "# Check to make sure binning was successful\n",
    "application_df['CLASSIFICATION'].value_counts()"
   ]
  },
  {
   "cell_type": "code",
   "execution_count": 100,
   "metadata": {},
   "outputs": [
    {
     "data": {
      "text/plain": [
       "NAME\n",
       "Other                                          20277\n",
       "PARENT BOOSTER USA INC                          1260\n",
       "TOPS CLUB INC                                    765\n",
       "UNITED STATES BOWLING CONGRESS INC               700\n",
       "WASHINGTON STATE UNIVERSITY                      492\n",
       "                                               ...  \n",
       "RCI INC                                            7\n",
       "MYTEAM TRIUMPH INC                                 7\n",
       "NATIONAL ASSOCIATION OF CORPORATE DIRECTORS        7\n",
       "CHRISTIAN MEDICAL & DENTAL SOCIETY                 7\n",
       "NATIONAL KAPPA KAPPA IOTA INC                      7\n",
       "Name: count, Length: 316, dtype: int64"
      ]
     },
     "execution_count": 100,
     "metadata": {},
     "output_type": "execute_result"
    }
   ],
   "source": [
    "# Count of name column\n",
    "name_counts = application_df.NAME.value_counts()\n",
    "name_counts\n",
    "\n",
    "# Replace name values with counts less than 20 with \"Other\"\n",
    "replace_application = list(name_counts[name_counts < 0.005*1260].index)\n",
    "\n",
    "# Replace in dataframe\n",
    "for name in replace_application:\n",
    "    application_df.NAME = application_df.NAME.replace(name,\"Other\")\n",
    "\n",
    "# Check to make sure binning was successful\n",
    "application_df.NAME.value_counts()"
   ]
  },
  {
   "cell_type": "code",
   "execution_count": 101,
   "metadata": {},
   "outputs": [],
   "source": [
    "# Convert categorical data to numeric with `pd.get_dummies`\n",
    "application_df = pd.get_dummies(application_df)"
   ]
  },
  {
   "cell_type": "code",
   "execution_count": 102,
   "metadata": {},
   "outputs": [],
   "source": [
    "# Reduce the data size for testing\n",
    "sample_df = application_df.sample(frac=0.3, random_state=78)  # Change frac as needed\n",
    "\n",
    "# Split our preprocessed data into our features and target arrays\n",
    "X = application_df.drop([\"IS_SUCCESSFUL\"], axis=1).values\n",
    "y = application_df[\"IS_SUCCESSFUL\"].values\n",
    "# Split the preprocessed data into a training and testing dataset\n",
    "X_train, X_test, y_train, y_test = train_test_split(X, y, random_state=78)"
   ]
  },
  {
   "cell_type": "code",
   "execution_count": 103,
   "metadata": {},
   "outputs": [],
   "source": [
    "# Create a StandardScaler instances\n",
    "scaler = StandardScaler()\n",
    "\n",
    "# Fit the StandardScaler\n",
    "X_scaler = scaler.fit(X_train)\n",
    "\n",
    "# Scale the data\n",
    "X_train_scaled = X_scaler.transform(X_train)\n",
    "X_test_scaled = X_scaler.transform(X_test)"
   ]
  },
  {
   "cell_type": "markdown",
   "metadata": {
    "id": "K5YEL2H2Ax3e"
   },
   "source": [
    "## Define the model\n",
    "\n",
    "When you build a model for hypertuning, you also define the hyperparameter search space in addition to the model architecture. The model you set up for hypertuning is called a *hypermodel*.\n",
    "\n",
    "You can define a hypermodel through two approaches:\n",
    "\n",
    "* By using a model builder function\n",
    "* By subclassing the `HyperModel` class of the Keras Tuner API\n",
    "\n",
    "You can also use two pre-defined [HyperModel](https://keras.io/api/keras_tuner/hypermodels/) classes - [HyperXception](https://keras.io/api/keras_tuner/hypermodels/hyper_xception/) and [HyperResNet](https://keras.io/api/keras_tuner/hypermodels/hyper_resnet/) for computer vision applications.\n",
    "\n",
    "In this tutorial, you use a model builder function to define the image classification model. The model builder function returns a compiled model and uses hyperparameters you define inline to hypertune the model."
   ]
  },
  {
   "cell_type": "code",
   "execution_count": 104,
   "metadata": {
    "execution": {
     "iopub.execute_input": "2023-12-07T03:20:03.650529Z",
     "iopub.status.busy": "2023-12-07T03:20:03.650216Z",
     "iopub.status.idle": "2023-12-07T03:20:03.655939Z",
     "shell.execute_reply": "2023-12-07T03:20:03.655314Z"
    },
    "id": "ZQKodC-jtsva"
   },
   "outputs": [],
   "source": [
    "def model_builder(hp):\n",
    "  model = keras.Sequential()\n",
    "  model.add(keras.layers.Flatten(input_shape=(359,)))\n",
    "\n",
    "  # Tune the number of units in the first Dense layer\n",
    "  hp_units = hp.Int('units', min_value=32, max_value=512, step=32)\n",
    "  model.add(keras.layers.Dense(units=hp_units, activation='tanh'))\n",
    "\n",
    "  # Add a second Dense layer with tunable number of units\n",
    "  hp_units_2 = hp.Int('units_2', min_value=32, max_value=512, step=32)\n",
    "  model.add(keras.layers.Dense(units=hp_units_2, activation='tanh'))\n",
    "\n",
    "\n",
    "  model.add(keras.layers.Dense(10))\n",
    "\n",
    "  # Tune the learning rate for the optimizer\n",
    "  hp_learning_rate = hp.Choice('learning_rate', values=[1e-2, 1e-3, 1e-4])\n",
    "\n",
    "  model.compile(optimizer=keras.optimizers.Adam(learning_rate=hp_learning_rate),\n",
    "                loss=keras.losses.SparseCategoricalCrossentropy(from_logits=True),\n",
    "                metrics=['accuracy'])\n",
    "\n",
    "  return model"
   ]
  },
  {
   "cell_type": "markdown",
   "metadata": {
    "id": "0J1VYw4q3x0b"
   },
   "source": [
    "## Instantiate the tuner and perform hypertuning\n",
    "\n",
    "Instantiate the tuner to perform the hypertuning. The Keras Tuner has four tuners available - `RandomSearch`, `Hyperband`, `BayesianOptimization`, and `Sklearn`. In this tutorial, you use the [Hyperband](https://arxiv.org/pdf/1603.06560.pdf) tuner.\n",
    "\n",
    "To instantiate the Hyperband tuner, you must specify the hypermodel, the `objective` to optimize and the maximum number of epochs to train (`max_epochs`)."
   ]
  },
  {
   "cell_type": "code",
   "execution_count": 105,
   "metadata": {
    "execution": {
     "iopub.execute_input": "2023-12-07T03:20:03.659627Z",
     "iopub.status.busy": "2023-12-07T03:20:03.658917Z",
     "iopub.status.idle": "2023-12-07T03:20:05.979646Z",
     "shell.execute_reply": "2023-12-07T03:20:05.978757Z"
    },
    "id": "oichQFly6Y46"
   },
   "outputs": [],
   "source": [
    "tuner = kt.tuners.BayesianOptimization(\n",
    "  model_builder,\n",
    "  objective='val_accuracy',\n",
    "  max_trials=25,\n",
    "  directory='bayesian2',\n",
    "  overwrite=True)"
   ]
  },
  {
   "cell_type": "markdown",
   "metadata": {
    "id": "VaIhhdKf9VtI"
   },
   "source": [
    "The Hyperband tuning algorithm uses adaptive resource allocation and early-stopping to quickly converge on a high-performing model. This is done using a sports championship style bracket. The algorithm trains a large number of models for a few epochs and carries forward only the top-performing half of models to the next round. Hyperband determines the number of models to train in a bracket by computing 1 + log<sub>`factor`</sub>(`max_epochs`) and rounding it up to the nearest integer."
   ]
  },
  {
   "cell_type": "markdown",
   "metadata": {
    "id": "cwhBdXx0Ekj8"
   },
   "source": [
    "Create a callback to stop training early after reaching a certain value for the validation loss."
   ]
  },
  {
   "cell_type": "code",
   "execution_count": 106,
   "metadata": {
    "execution": {
     "iopub.execute_input": "2023-12-07T03:20:05.984275Z",
     "iopub.status.busy": "2023-12-07T03:20:05.983977Z",
     "iopub.status.idle": "2023-12-07T03:20:05.987832Z",
     "shell.execute_reply": "2023-12-07T03:20:05.987132Z"
    },
    "id": "WT9IkS9NEjLc"
   },
   "outputs": [],
   "source": [
    "stop_early = tf.keras.callbacks.EarlyStopping(monitor='val_loss', patience=5)"
   ]
  },
  {
   "cell_type": "markdown",
   "metadata": {
    "id": "UKghEo15Tduy"
   },
   "source": [
    "Run the hyperparameter search. The arguments for the search method are the same as those used for `tf.keras.model.fit` in addition to the callback above."
   ]
  },
  {
   "cell_type": "code",
   "execution_count": 107,
   "metadata": {
    "execution": {
     "iopub.execute_input": "2023-12-07T03:20:05.991445Z",
     "iopub.status.busy": "2023-12-07T03:20:05.990814Z",
     "iopub.status.idle": "2023-12-07T03:28:48.512022Z",
     "shell.execute_reply": "2023-12-07T03:28:48.511228Z"
    },
    "id": "dSBQcTHF9cKt"
   },
   "outputs": [
    {
     "name": "stdout",
     "output_type": "stream",
     "text": [
      "Trial 25 Complete [00h 00m 18s]\n",
      "val_accuracy: 0.787560760974884\n",
      "\n",
      "Best val_accuracy So Far: 0.7889212965965271\n",
      "Total elapsed time: 00h 06m 13s\n",
      "\n",
      "The hyperparameter search is complete. The optimal number of units in the first densely-connected\n",
      "layer is 384 and the optimal learning rate for the optimizer\n",
      "is 0.001.\n",
      "\n"
     ]
    }
   ],
   "source": [
    "tuner.search(X_train_scaled, y_train, epochs=50, validation_split=0.2, callbacks=[stop_early])\n",
    "\n",
    "# Get the optimal hyperparameters\n",
    "best_hps=tuner.get_best_hyperparameters(num_trials=1)[0]\n",
    "\n",
    "print(f\"\"\"\n",
    "The hyperparameter search is complete. The optimal number of units in the first densely-connected\n",
    "layer is {best_hps.get('units')} and the optimal learning rate for the optimizer\n",
    "is {best_hps.get('learning_rate')}.\n",
    "\"\"\")"
   ]
  },
  {
   "cell_type": "markdown",
   "metadata": {
    "id": "Lak_ylf88xBv"
   },
   "source": [
    "## Train the model\n",
    "\n",
    "Find the optimal number of epochs to train the model with the hyperparameters obtained from the search."
   ]
  },
  {
   "cell_type": "code",
   "execution_count": 108,
   "metadata": {
    "execution": {
     "iopub.execute_input": "2023-12-07T03:28:48.515436Z",
     "iopub.status.busy": "2023-12-07T03:28:48.515165Z",
     "iopub.status.idle": "2023-12-07T03:31:57.753169Z",
     "shell.execute_reply": "2023-12-07T03:31:57.752415Z"
    },
    "id": "McO82AXOuxXh"
   },
   "outputs": [
    {
     "name": "stdout",
     "output_type": "stream",
     "text": [
      "Epoch 1/50\n",
      "644/644 [==============================] - 2s 2ms/step - loss: 0.6245 - accuracy: 0.7549 - val_loss: 0.4574 - val_accuracy: 0.7769\n",
      "Epoch 2/50\n",
      "644/644 [==============================] - 1s 2ms/step - loss: 0.4440 - accuracy: 0.7868 - val_loss: 0.4455 - val_accuracy: 0.7835\n",
      "Epoch 3/50\n",
      "644/644 [==============================] - 1s 2ms/step - loss: 0.4395 - accuracy: 0.7904 - val_loss: 0.4474 - val_accuracy: 0.7800\n",
      "Epoch 4/50\n",
      "644/644 [==============================] - 1s 2ms/step - loss: 0.4354 - accuracy: 0.7905 - val_loss: 0.4439 - val_accuracy: 0.7796\n",
      "Epoch 5/50\n",
      "644/644 [==============================] - 1s 2ms/step - loss: 0.4333 - accuracy: 0.7919 - val_loss: 0.4430 - val_accuracy: 0.7829\n",
      "Epoch 6/50\n",
      "644/644 [==============================] - 1s 2ms/step - loss: 0.4346 - accuracy: 0.7900 - val_loss: 0.4475 - val_accuracy: 0.7804\n",
      "Epoch 7/50\n",
      "644/644 [==============================] - 1s 2ms/step - loss: 0.4320 - accuracy: 0.7922 - val_loss: 0.4601 - val_accuracy: 0.7843\n",
      "Epoch 8/50\n",
      "644/644 [==============================] - 1s 2ms/step - loss: 0.4315 - accuracy: 0.7910 - val_loss: 0.4645 - val_accuracy: 0.7454\n",
      "Epoch 9/50\n",
      "644/644 [==============================] - 1s 2ms/step - loss: 0.4299 - accuracy: 0.7935 - val_loss: 0.4521 - val_accuracy: 0.7782\n",
      "Epoch 10/50\n",
      "644/644 [==============================] - 1s 2ms/step - loss: 0.4311 - accuracy: 0.7896 - val_loss: 0.4482 - val_accuracy: 0.7804\n",
      "Epoch 11/50\n",
      "644/644 [==============================] - 1s 2ms/step - loss: 0.4290 - accuracy: 0.7939 - val_loss: 0.4605 - val_accuracy: 0.7753\n",
      "Epoch 12/50\n",
      "644/644 [==============================] - 1s 2ms/step - loss: 0.4301 - accuracy: 0.7922 - val_loss: 0.4491 - val_accuracy: 0.7852\n",
      "Epoch 13/50\n",
      "644/644 [==============================] - 1s 2ms/step - loss: 0.4288 - accuracy: 0.7918 - val_loss: 0.4483 - val_accuracy: 0.7825\n",
      "Epoch 14/50\n",
      "644/644 [==============================] - 1s 2ms/step - loss: 0.4282 - accuracy: 0.7954 - val_loss: 0.4493 - val_accuracy: 0.7860\n",
      "Epoch 15/50\n",
      "644/644 [==============================] - 1s 2ms/step - loss: 0.4273 - accuracy: 0.7967 - val_loss: 0.4511 - val_accuracy: 0.7866\n",
      "Epoch 16/50\n",
      "644/644 [==============================] - 1s 2ms/step - loss: 0.4272 - accuracy: 0.7960 - val_loss: 0.4507 - val_accuracy: 0.7846\n",
      "Epoch 17/50\n",
      "644/644 [==============================] - 1s 2ms/step - loss: 0.4275 - accuracy: 0.7969 - val_loss: 0.4639 - val_accuracy: 0.7666\n",
      "Epoch 18/50\n",
      "644/644 [==============================] - 1s 2ms/step - loss: 0.4823 - accuracy: 0.7830 - val_loss: 0.4556 - val_accuracy: 0.7839\n",
      "Epoch 19/50\n",
      "644/644 [==============================] - 1s 2ms/step - loss: 0.4331 - accuracy: 0.7924 - val_loss: 0.4568 - val_accuracy: 0.7825\n",
      "Epoch 20/50\n",
      "644/644 [==============================] - 1s 2ms/step - loss: 0.4293 - accuracy: 0.7942 - val_loss: 0.4454 - val_accuracy: 0.7827\n",
      "Epoch 21/50\n",
      "644/644 [==============================] - 1s 2ms/step - loss: 0.4273 - accuracy: 0.7941 - val_loss: 0.4847 - val_accuracy: 0.7819\n",
      "Epoch 22/50\n",
      "644/644 [==============================] - 1s 2ms/step - loss: 0.4259 - accuracy: 0.7965 - val_loss: 0.4518 - val_accuracy: 0.7815\n",
      "Epoch 23/50\n",
      "644/644 [==============================] - 1s 2ms/step - loss: 0.4252 - accuracy: 0.7958 - val_loss: 0.4551 - val_accuracy: 0.7881\n",
      "Epoch 24/50\n",
      "644/644 [==============================] - 1s 2ms/step - loss: 0.4253 - accuracy: 0.7963 - val_loss: 0.4619 - val_accuracy: 0.7827\n",
      "Epoch 25/50\n",
      "644/644 [==============================] - 1s 2ms/step - loss: 0.4267 - accuracy: 0.7962 - val_loss: 0.4519 - val_accuracy: 0.7876\n",
      "Epoch 26/50\n",
      "644/644 [==============================] - 1s 2ms/step - loss: 0.4255 - accuracy: 0.7974 - val_loss: 0.4557 - val_accuracy: 0.7734\n",
      "Epoch 27/50\n",
      "644/644 [==============================] - 1s 2ms/step - loss: 0.4237 - accuracy: 0.7966 - val_loss: 0.4554 - val_accuracy: 0.7831\n",
      "Epoch 28/50\n",
      "644/644 [==============================] - 1s 2ms/step - loss: 0.4248 - accuracy: 0.7960 - val_loss: 0.4898 - val_accuracy: 0.7839\n",
      "Epoch 29/50\n",
      "644/644 [==============================] - 1s 2ms/step - loss: 0.4253 - accuracy: 0.7950 - val_loss: 0.4617 - val_accuracy: 0.7794\n",
      "Epoch 30/50\n",
      "644/644 [==============================] - 1s 2ms/step - loss: 0.4244 - accuracy: 0.7951 - val_loss: 0.4671 - val_accuracy: 0.7683\n",
      "Epoch 31/50\n",
      "644/644 [==============================] - 1s 2ms/step - loss: 0.4227 - accuracy: 0.7969 - val_loss: 0.4546 - val_accuracy: 0.7835\n",
      "Epoch 32/50\n",
      "644/644 [==============================] - 1s 2ms/step - loss: 0.4249 - accuracy: 0.7965 - val_loss: 0.4589 - val_accuracy: 0.7839\n",
      "Epoch 33/50\n",
      "644/644 [==============================] - 1s 2ms/step - loss: 0.4249 - accuracy: 0.7945 - val_loss: 0.4619 - val_accuracy: 0.7829\n",
      "Epoch 34/50\n",
      "644/644 [==============================] - 1s 2ms/step - loss: 0.4224 - accuracy: 0.7997 - val_loss: 0.4551 - val_accuracy: 0.7858\n",
      "Epoch 35/50\n",
      "644/644 [==============================] - 1s 2ms/step - loss: 0.4223 - accuracy: 0.7968 - val_loss: 0.4612 - val_accuracy: 0.7800\n",
      "Epoch 36/50\n",
      "644/644 [==============================] - 1s 2ms/step - loss: 0.4216 - accuracy: 0.7988 - val_loss: 0.4564 - val_accuracy: 0.7802\n",
      "Epoch 37/50\n",
      "644/644 [==============================] - 1s 2ms/step - loss: 0.4224 - accuracy: 0.7976 - val_loss: 0.4623 - val_accuracy: 0.7848\n",
      "Epoch 38/50\n",
      "644/644 [==============================] - 1s 2ms/step - loss: 0.4218 - accuracy: 0.7986 - val_loss: 0.4606 - val_accuracy: 0.7776\n",
      "Epoch 39/50\n",
      "644/644 [==============================] - 1s 2ms/step - loss: 0.4220 - accuracy: 0.7981 - val_loss: 0.4615 - val_accuracy: 0.7811\n",
      "Epoch 40/50\n",
      "644/644 [==============================] - 1s 2ms/step - loss: 0.4230 - accuracy: 0.7967 - val_loss: 0.4573 - val_accuracy: 0.7804\n",
      "Epoch 41/50\n",
      "644/644 [==============================] - 1s 2ms/step - loss: 0.4202 - accuracy: 0.7991 - val_loss: 0.4617 - val_accuracy: 0.7800\n",
      "Epoch 42/50\n",
      "644/644 [==============================] - 1s 2ms/step - loss: 0.4214 - accuracy: 0.7969 - val_loss: 0.4587 - val_accuracy: 0.7800\n",
      "Epoch 43/50\n",
      "644/644 [==============================] - 1s 2ms/step - loss: 0.4212 - accuracy: 0.7990 - val_loss: 0.4627 - val_accuracy: 0.7819\n",
      "Epoch 44/50\n",
      "644/644 [==============================] - 1s 2ms/step - loss: 0.4195 - accuracy: 0.7973 - val_loss: 0.4717 - val_accuracy: 0.7664\n",
      "Epoch 45/50\n",
      "644/644 [==============================] - 1s 2ms/step - loss: 0.4212 - accuracy: 0.7972 - val_loss: 0.4605 - val_accuracy: 0.7860\n",
      "Epoch 46/50\n",
      "644/644 [==============================] - 1s 2ms/step - loss: 0.4212 - accuracy: 0.7984 - val_loss: 0.4691 - val_accuracy: 0.7817\n",
      "Epoch 47/50\n",
      "644/644 [==============================] - 1s 2ms/step - loss: 0.4204 - accuracy: 0.7973 - val_loss: 0.4658 - val_accuracy: 0.7843\n",
      "Epoch 48/50\n",
      "644/644 [==============================] - 1s 2ms/step - loss: 0.4196 - accuracy: 0.8025 - val_loss: 0.4673 - val_accuracy: 0.7810\n",
      "Epoch 49/50\n",
      "644/644 [==============================] - 1s 2ms/step - loss: 0.4187 - accuracy: 0.7994 - val_loss: 0.4896 - val_accuracy: 0.7755\n",
      "Epoch 50/50\n",
      "644/644 [==============================] - 1s 2ms/step - loss: 0.4193 - accuracy: 0.7994 - val_loss: 0.4625 - val_accuracy: 0.7856\n",
      "Best epoch: 23\n"
     ]
    }
   ],
   "source": [
    "# Build the model with the optimal hyperparameters and train it on the data for 50 epochs\n",
    "model = tuner.hypermodel.build(best_hps)\n",
    "history = model.fit(X_train_scaled, y_train, epochs=50, validation_split=0.2)\n",
    "\n",
    "val_acc_per_epoch = history.history['val_accuracy']\n",
    "best_epoch = val_acc_per_epoch.index(max(val_acc_per_epoch)) + 1\n",
    "print('Best epoch: %d' % (best_epoch,))"
   ]
  },
  {
   "cell_type": "markdown",
   "metadata": {
    "id": "uOTSirSTI3Gp"
   },
   "source": [
    "Re-instantiate the hypermodel and train it with the optimal number of epochs from above."
   ]
  },
  {
   "cell_type": "code",
   "execution_count": 109,
   "metadata": {
    "execution": {
     "iopub.execute_input": "2023-12-07T03:31:57.757140Z",
     "iopub.status.busy": "2023-12-07T03:31:57.756644Z",
     "iopub.status.idle": "2023-12-07T03:34:44.271329Z",
     "shell.execute_reply": "2023-12-07T03:34:44.270534Z"
    },
    "id": "NoiPUEHmMhCe"
   },
   "outputs": [
    {
     "name": "stdout",
     "output_type": "stream",
     "text": [
      "Epoch 1/23\n",
      "644/644 [==============================] - 2s 2ms/step - loss: 0.6167 - accuracy: 0.7546 - val_loss: 0.4589 - val_accuracy: 0.7776\n",
      "Epoch 2/23\n",
      "644/644 [==============================] - 1s 2ms/step - loss: 0.4451 - accuracy: 0.7857 - val_loss: 0.4487 - val_accuracy: 0.7837\n",
      "Epoch 3/23\n",
      "644/644 [==============================] - 1s 2ms/step - loss: 0.4387 - accuracy: 0.7890 - val_loss: 0.4497 - val_accuracy: 0.7790\n",
      "Epoch 4/23\n",
      "644/644 [==============================] - 1s 2ms/step - loss: 0.4363 - accuracy: 0.7909 - val_loss: 0.4482 - val_accuracy: 0.7771\n",
      "Epoch 5/23\n",
      "644/644 [==============================] - 1s 2ms/step - loss: 0.4360 - accuracy: 0.7893 - val_loss: 0.4488 - val_accuracy: 0.7798\n",
      "Epoch 6/23\n",
      "644/644 [==============================] - 1s 2ms/step - loss: 0.4336 - accuracy: 0.7905 - val_loss: 0.4477 - val_accuracy: 0.7808\n",
      "Epoch 7/23\n",
      "644/644 [==============================] - 1s 2ms/step - loss: 0.4327 - accuracy: 0.7910 - val_loss: 0.4809 - val_accuracy: 0.7438\n",
      "Epoch 8/23\n",
      "644/644 [==============================] - 1s 2ms/step - loss: 0.4317 - accuracy: 0.7916 - val_loss: 0.4512 - val_accuracy: 0.7817\n",
      "Epoch 9/23\n",
      "644/644 [==============================] - 1s 2ms/step - loss: 0.4318 - accuracy: 0.7911 - val_loss: 0.4487 - val_accuracy: 0.7833\n",
      "Epoch 10/23\n",
      "644/644 [==============================] - 1s 2ms/step - loss: 0.4631 - accuracy: 0.7865 - val_loss: 0.5044 - val_accuracy: 0.7728\n",
      "Epoch 11/23\n",
      "644/644 [==============================] - 1s 2ms/step - loss: 0.4418 - accuracy: 0.7885 - val_loss: 0.4442 - val_accuracy: 0.7852\n",
      "Epoch 12/23\n",
      "644/644 [==============================] - 1s 2ms/step - loss: 0.4309 - accuracy: 0.7923 - val_loss: 0.4509 - val_accuracy: 0.7821\n",
      "Epoch 13/23\n",
      "644/644 [==============================] - 1s 2ms/step - loss: 0.4293 - accuracy: 0.7932 - val_loss: 0.4442 - val_accuracy: 0.7829\n",
      "Epoch 14/23\n",
      "644/644 [==============================] - 1s 2ms/step - loss: 0.4275 - accuracy: 0.7939 - val_loss: 0.4500 - val_accuracy: 0.7728\n",
      "Epoch 15/23\n",
      "644/644 [==============================] - 1s 2ms/step - loss: 0.4285 - accuracy: 0.7951 - val_loss: 0.4461 - val_accuracy: 0.7841\n",
      "Epoch 16/23\n",
      "644/644 [==============================] - 1s 2ms/step - loss: 0.4278 - accuracy: 0.7931 - val_loss: 0.4513 - val_accuracy: 0.7858\n",
      "Epoch 17/23\n",
      "644/644 [==============================] - 1s 2ms/step - loss: 0.4276 - accuracy: 0.7954 - val_loss: 0.4669 - val_accuracy: 0.7893\n",
      "Epoch 18/23\n",
      "644/644 [==============================] - 1s 2ms/step - loss: 0.4284 - accuracy: 0.7936 - val_loss: 0.4540 - val_accuracy: 0.7782\n",
      "Epoch 19/23\n",
      "644/644 [==============================] - 1s 2ms/step - loss: 0.4266 - accuracy: 0.7915 - val_loss: 0.4592 - val_accuracy: 0.7736\n",
      "Epoch 20/23\n",
      "644/644 [==============================] - 1s 2ms/step - loss: 0.4267 - accuracy: 0.7945 - val_loss: 0.4479 - val_accuracy: 0.7854\n",
      "Epoch 21/23\n",
      "644/644 [==============================] - 1s 2ms/step - loss: 0.4264 - accuracy: 0.7945 - val_loss: 0.4548 - val_accuracy: 0.7831\n",
      "Epoch 22/23\n",
      "644/644 [==============================] - 1s 2ms/step - loss: 0.4269 - accuracy: 0.7963 - val_loss: 0.4645 - val_accuracy: 0.7852\n",
      "Epoch 23/23\n",
      "644/644 [==============================] - 1s 2ms/step - loss: 0.4252 - accuracy: 0.7962 - val_loss: 0.4635 - val_accuracy: 0.7761\n"
     ]
    },
    {
     "data": {
      "text/plain": [
       "<keras.callbacks.History at 0x21212df7af0>"
      ]
     },
     "execution_count": 109,
     "metadata": {},
     "output_type": "execute_result"
    }
   ],
   "source": [
    "hypermodel = tuner.hypermodel.build(best_hps)\n",
    "\n",
    "# Retrain the model\n",
    "hypermodel.fit(X_train_scaled, y_train, epochs=best_epoch, validation_split=0.2)"
   ]
  },
  {
   "cell_type": "markdown",
   "metadata": {
    "id": "MqU5ZVAaag2v"
   },
   "source": [
    "To finish this tutorial, evaluate the hypermodel on the test data."
   ]
  },
  {
   "cell_type": "code",
   "execution_count": 110,
   "metadata": {
    "execution": {
     "iopub.execute_input": "2023-12-07T03:34:44.275340Z",
     "iopub.status.busy": "2023-12-07T03:34:44.274641Z",
     "iopub.status.idle": "2023-12-07T03:34:45.100071Z",
     "shell.execute_reply": "2023-12-07T03:34:45.099323Z"
    },
    "id": "9E0BTp9Ealjb"
   },
   "outputs": [
    {
     "name": "stdout",
     "output_type": "stream",
     "text": [
      "268/268 [==============================] - 0s 1ms/step - loss: 0.4564 - accuracy: 0.7836\n",
      "[test loss, test accuracy]: [0.4563525915145874, 0.7835568785667419]\n"
     ]
    }
   ],
   "source": [
    "eval_result = hypermodel.evaluate(X_test_scaled, y_test,)\n",
    "print(\"[test loss, test accuracy]:\", eval_result)"
   ]
  },
  {
   "cell_type": "markdown",
   "metadata": {
    "id": "EQRpPHZsz-eC"
   },
   "source": [
    "The `my_dir/intro_to_kt` directory contains detailed logs and checkpoints for every trial (model configuration) run during the hyperparameter search. If you re-run the hyperparameter search, the Keras Tuner uses the existing state from these logs to resume the search. To disable this behavior, pass an additional `overwrite=True` argument while instantiating the tuner."
   ]
  }
 ],
 "metadata": {
  "accelerator": "GPU",
  "colab": {
   "collapsed_sections": [
    "Tce3stUlHN0L"
   ],
   "name": "keras_tuner.ipynb",
   "toc_visible": true
  },
  "kernelspec": {
   "display_name": "Python 3",
   "name": "python3"
  },
  "language_info": {
   "codemirror_mode": {
    "name": "ipython",
    "version": 3
   },
   "file_extension": ".py",
   "mimetype": "text/x-python",
   "name": "python",
   "nbconvert_exporter": "python",
   "pygments_lexer": "ipython3",
   "version": "3.10.13"
  }
 },
 "nbformat": 4,
 "nbformat_minor": 0
}
